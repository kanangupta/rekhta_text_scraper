{
 "cells": [
  {
   "cell_type": "code",
   "execution_count": 1,
   "id": "4bb8edda",
   "metadata": {},
   "outputs": [
    {
     "name": "stderr",
     "output_type": "stream",
     "text": [
      "C:\\Users\\kanan\\AppData\\Local\\Packages\\PythonSoftwareFoundation.Python.3.9_qbz5n2kfra8p0\\LocalCache\\local-packages\\Python39\\site-packages\\requests\\__init__.py:102: RequestsDependencyWarning: urllib3 (1.26.7) or chardet (5.2.0)/charset_normalizer (2.0.7) doesn't match a supported version!\n",
      "  warnings.warn(\"urllib3 ({}) or chardet ({})/charset_normalizer ({}) doesn't match a supported \"\n"
     ]
    }
   ],
   "source": [
    "import time\n",
    "from selenium import webdriver\n",
    "from bs4 import BeautifulSoup\n",
    "from bs4.element import Comment\n",
    "from tqdm import tqdm\n",
    "import urllib.request\n",
    "import requests\n",
    "import pandas as pd\n",
    "import os\n",
    "import pickle"
   ]
  },
  {
   "cell_type": "markdown",
   "id": "e6514be1",
   "metadata": {},
   "source": [
    "First we make a list of the names and webpages of all the authors listed on Rekhta. We use selenium for this because Rekhta employs 'lazy loading', i.e. the webpage loads only the first 50 entries at a time and more are loaded once the user scrolls down."
   ]
  },
  {
   "cell_type": "code",
   "execution_count": null,
   "id": "6d1bec18",
   "metadata": {},
   "outputs": [
    {
     "name": "stderr",
     "output_type": "stream",
     "text": [
      "There was an error managing chromedriver (error sending request for url (https://googlechromelabs.github.io/chrome-for-testing/last-known-good-versions-with-downloads.json): error trying to connect: dns error: No such host is known. (os error 11001)); using driver found in the cache\n",
      "There was an error managing chrome; using browser found in the cache\n"
     ]
    }
   ],
   "source": [
    "base_url = 'https://www.rekhta.org'\n",
    "poets = []\n",
    "\n",
    "# Launch the browser\n",
    "driver = webdriver.Chrome()\n",
    "\n",
    "#Removing 'V' from the list of alphabet because all those names are repeated under 'W' anyway.\n",
    "for letter in tqdm('ABCDEFGHIJKLMNOPQRSTUWXYZ'):\n",
    "    url = f'{base_url}/poets?startswith={letter}'\n",
    "    driver.get(url)\n",
    "\n",
    "    # Scroll down to load more poets\n",
    "    last_height = driver.execute_script(\"return document.body.scrollHeight\")\n",
    "    while True:\n",
    "        driver.execute_script(\"window.scrollTo(0, document.body.scrollHeight);\")\n",
    "        time.sleep(2)  # Adjust sleep time as needed\n",
    "        new_height = driver.execute_script(\"return document.body.scrollHeight\")\n",
    "        if new_height == last_height:\n",
    "            break\n",
    "        last_height = new_height\n",
    "\n",
    "    # Parse the page source after scrolling\n",
    "    soup = BeautifulSoup(driver.page_source, 'html.parser')\n",
    "\n",
    "    for poet_div in soup.find_all('div', class_='poetColumn'):\n",
    "        name_div = poet_div.find('div', class_='poetNameDatePlace')\n",
    "        name_a = name_div.find('a')\n",
    "        name = name_a.text.strip()\n",
    "        href = name_a['href']\n",
    "\n",
    "        location_div = poet_div.find('div', class_='poetPlaceDate')\n",
    "        location_a = location_div.find('a')\n",
    "        # location = location_a.text.strip()\n",
    "\n",
    "        poet = {\n",
    "            'name': name,\n",
    "            'href': href,\n",
    "            'location': location_a.text.strip() if location_a else None\n",
    "        }\n",
    "        poets.append(poet)\n",
    "\n",
    "# Close the browser\n",
    "driver.quit()"
   ]
  },
  {
   "cell_type": "markdown",
   "id": "bbc9c0b4",
   "metadata": {},
   "source": [
    "Converting the saved data to a Pandas dataframe."
   ]
  },
  {
   "cell_type": "code",
   "execution_count": 100,
   "id": "b1462a4d",
   "metadata": {},
   "outputs": [
    {
     "data": {
      "text/html": [
       "<div>\n",
       "<style scoped>\n",
       "    .dataframe tbody tr th:only-of-type {\n",
       "        vertical-align: middle;\n",
       "    }\n",
       "\n",
       "    .dataframe tbody tr th {\n",
       "        vertical-align: top;\n",
       "    }\n",
       "\n",
       "    .dataframe thead th {\n",
       "        text-align: right;\n",
       "    }\n",
       "</style>\n",
       "<table border=\"1\" class=\"dataframe\">\n",
       "  <thead>\n",
       "    <tr style=\"text-align: right;\">\n",
       "      <th></th>\n",
       "      <th>index</th>\n",
       "      <th>name</th>\n",
       "      <th>href</th>\n",
       "      <th>location</th>\n",
       "      <th>auth</th>\n",
       "    </tr>\n",
       "  </thead>\n",
       "  <tbody>\n",
       "    <tr>\n",
       "      <th>0</th>\n",
       "      <td>0</td>\n",
       "      <td>A G Josh</td>\n",
       "      <td>https://www.rekhta.org/poets/a-g-josh</td>\n",
       "      <td>Lahore</td>\n",
       "      <td>a-g-josh</td>\n",
       "    </tr>\n",
       "    <tr>\n",
       "      <th>1</th>\n",
       "      <td>1</td>\n",
       "      <td>A. D. Azhar</td>\n",
       "      <td>https://www.rekhta.org/poets/a-d-azhar</td>\n",
       "      <td>None</td>\n",
       "      <td>a-d-azhar</td>\n",
       "    </tr>\n",
       "    <tr>\n",
       "      <th>2</th>\n",
       "      <td>2</td>\n",
       "      <td>A. Hameed</td>\n",
       "      <td>https://www.rekhta.org/authors/a-hameed</td>\n",
       "      <td>Lahore</td>\n",
       "      <td>a-hameed</td>\n",
       "    </tr>\n",
       "    <tr>\n",
       "      <th>3</th>\n",
       "      <td>3</td>\n",
       "      <td>A. Khayyam</td>\n",
       "      <td>https://www.rekhta.org/authors/a-khayyam-1</td>\n",
       "      <td>Karachi</td>\n",
       "      <td>a-khayyam-1</td>\n",
       "    </tr>\n",
       "    <tr>\n",
       "      <th>4</th>\n",
       "      <td>4</td>\n",
       "      <td>A. S Bukhari</td>\n",
       "      <td>https://www.rekhta.org/authors/a-s-bukhari</td>\n",
       "      <td>None</td>\n",
       "      <td>a-s-bukhari</td>\n",
       "    </tr>\n",
       "    <tr>\n",
       "      <th>...</th>\n",
       "      <td>...</td>\n",
       "      <td>...</td>\n",
       "      <td>...</td>\n",
       "      <td>...</td>\n",
       "      <td>...</td>\n",
       "    </tr>\n",
       "    <tr>\n",
       "      <th>7863</th>\n",
       "      <td>7929</td>\n",
       "      <td>Zulfiqar Ahsan</td>\n",
       "      <td>https://www.rekhta.org/poets/zulfiqar-ahsan</td>\n",
       "      <td>Sargodha</td>\n",
       "      <td>zulfiqar-ahsan</td>\n",
       "    </tr>\n",
       "    <tr>\n",
       "      <th>7864</th>\n",
       "      <td>7930</td>\n",
       "      <td>Zulfiqar Naqvi</td>\n",
       "      <td>https://www.rekhta.org/poets/zulfiqar-naqvi</td>\n",
       "      <td>Jammu</td>\n",
       "      <td>zulfiqar-naqvi</td>\n",
       "    </tr>\n",
       "    <tr>\n",
       "      <th>7865</th>\n",
       "      <td>7931</td>\n",
       "      <td>Zulfiqar Rizvi</td>\n",
       "      <td>https://www.rekhta.org/poets/zulfiqar-rizvi</td>\n",
       "      <td>None</td>\n",
       "      <td>zulfiqar-rizvi</td>\n",
       "    </tr>\n",
       "    <tr>\n",
       "      <th>7866</th>\n",
       "      <td>7932</td>\n",
       "      <td>Zulfiqar Zaki</td>\n",
       "      <td>https://www.rekhta.org/poets/zulfiqar-zaki</td>\n",
       "      <td>Sialkot</td>\n",
       "      <td>zulfiqar-zaki</td>\n",
       "    </tr>\n",
       "    <tr>\n",
       "      <th>7867</th>\n",
       "      <td>7933</td>\n",
       "      <td>Zunnurain</td>\n",
       "      <td>https://www.rekhta.org/poets/zunnurain</td>\n",
       "      <td>None</td>\n",
       "      <td>zunnurain</td>\n",
       "    </tr>\n",
       "  </tbody>\n",
       "</table>\n",
       "<p>7868 rows × 5 columns</p>\n",
       "</div>"
      ],
      "text/plain": [
       "      index            name                                         href  \\\n",
       "0         0        A G Josh        https://www.rekhta.org/poets/a-g-josh   \n",
       "1         1     A. D. Azhar       https://www.rekhta.org/poets/a-d-azhar   \n",
       "2         2       A. Hameed      https://www.rekhta.org/authors/a-hameed   \n",
       "3         3      A. Khayyam   https://www.rekhta.org/authors/a-khayyam-1   \n",
       "4         4    A. S Bukhari   https://www.rekhta.org/authors/a-s-bukhari   \n",
       "...     ...             ...                                          ...   \n",
       "7863   7929  Zulfiqar Ahsan  https://www.rekhta.org/poets/zulfiqar-ahsan   \n",
       "7864   7930  Zulfiqar Naqvi  https://www.rekhta.org/poets/zulfiqar-naqvi   \n",
       "7865   7931  Zulfiqar Rizvi  https://www.rekhta.org/poets/zulfiqar-rizvi   \n",
       "7866   7932   Zulfiqar Zaki   https://www.rekhta.org/poets/zulfiqar-zaki   \n",
       "7867   7933       Zunnurain       https://www.rekhta.org/poets/zunnurain   \n",
       "\n",
       "      location            auth  \n",
       "0       Lahore        a-g-josh  \n",
       "1         None       a-d-azhar  \n",
       "2       Lahore        a-hameed  \n",
       "3      Karachi     a-khayyam-1  \n",
       "4         None     a-s-bukhari  \n",
       "...        ...             ...  \n",
       "7863  Sargodha  zulfiqar-ahsan  \n",
       "7864     Jammu  zulfiqar-naqvi  \n",
       "7865      None  zulfiqar-rizvi  \n",
       "7866   Sialkot   zulfiqar-zaki  \n",
       "7867      None       zunnurain  \n",
       "\n",
       "[7868 rows x 5 columns]"
      ]
     },
     "execution_count": 100,
     "metadata": {},
     "output_type": "execute_result"
    }
   ],
   "source": [
    "df = pd.DataFrame(poets)\n",
    "df['auth'] = df['href'].str.split('/').str[-1]\n",
    "df.drop_duplicates(inplace=True)\n",
    "df.reset_index(inplace=True)\n",
    "authors=df['auth']\n",
    "df.to_csv('poets.csv', index=False)\n",
    "df"
   ]
  },
  {
   "cell_type": "markdown",
   "id": "75352ee2",
   "metadata": {},
   "source": [
    "Just as a sanity check, let's see how many authors' names begin with each alphabet."
   ]
  },
  {
   "cell_type": "code",
   "execution_count": 48,
   "id": "4d921672",
   "metadata": {},
   "outputs": [
    {
     "name": "stdout",
     "output_type": "stream",
     "text": [
      "A 1375\n",
      "B 203\n",
      "C 39\n",
      "D 124\n",
      "E 63\n",
      "F 229\n",
      "G 148\n",
      "H 317\n",
      "I 264\n",
      "J 213\n",
      "K 384\n",
      "L 46\n",
      "M 1001\n",
      "N 464\n",
      "O 30\n",
      "P 138\n",
      "Q 141\n",
      "R 447\n",
      "S 1454\n",
      "T 210\n",
      "U 64\n",
      "V 65\n",
      "W 90\n",
      "X 0\n",
      "Y 73\n",
      "Z 230\n"
     ]
    }
   ],
   "source": [
    "for letter in 'ABCDEFGHIJKLMNOPQRSTUVWXYZ':\n",
    "    print(letter, len(df[df['name'].str.startswith(letter)].index))"
   ]
  },
  {
   "cell_type": "code",
   "execution_count": 70,
   "id": "d806d981",
   "metadata": {},
   "outputs": [
    {
     "data": {
      "text/html": [
       "<div>\n",
       "<style scoped>\n",
       "    .dataframe tbody tr th:only-of-type {\n",
       "        vertical-align: middle;\n",
       "    }\n",
       "\n",
       "    .dataframe tbody tr th {\n",
       "        vertical-align: top;\n",
       "    }\n",
       "\n",
       "    .dataframe thead th {\n",
       "        text-align: right;\n",
       "    }\n",
       "</style>\n",
       "<table border=\"1\" class=\"dataframe\">\n",
       "  <thead>\n",
       "    <tr style=\"text-align: right;\">\n",
       "      <th></th>\n",
       "      <th>name</th>\n",
       "      <th>href</th>\n",
       "      <th>location</th>\n",
       "      <th>auth</th>\n",
       "    </tr>\n",
       "  </thead>\n",
       "  <tbody>\n",
       "    <tr>\n",
       "      <th>4936</th>\n",
       "      <td>P P Srivastava Rind</td>\n",
       "      <td>https://www.rekhta.org/poets/p-p-srivastava-rind</td>\n",
       "      <td>Noida</td>\n",
       "      <td>p-p-srivastava-rind</td>\n",
       "    </tr>\n",
       "    <tr>\n",
       "      <th>4937</th>\n",
       "      <td>P. C. Kuttikrishnan</td>\n",
       "      <td>https://www.rekhta.org/authors/p-c-kuttikrishnan</td>\n",
       "      <td>None</td>\n",
       "      <td>p-c-kuttikrishnan</td>\n",
       "    </tr>\n",
       "    <tr>\n",
       "      <th>4938</th>\n",
       "      <td>P. Keshav Dev</td>\n",
       "      <td>https://www.rekhta.org/authors/p-keshav-dev</td>\n",
       "      <td>None</td>\n",
       "      <td>p-keshav-dev</td>\n",
       "    </tr>\n",
       "    <tr>\n",
       "      <th>4939</th>\n",
       "      <td>Pagal Adilabadi</td>\n",
       "      <td>https://www.rekhta.org/poets/pagal-adilabadi</td>\n",
       "      <td>Hyderabad</td>\n",
       "      <td>pagal-adilabadi</td>\n",
       "    </tr>\n",
       "    <tr>\n",
       "      <th>4940</th>\n",
       "      <td>Paigham Aafaqi</td>\n",
       "      <td>https://www.rekhta.org/authors/paigham-aafaqi</td>\n",
       "      <td>None</td>\n",
       "      <td>paigham-aafaqi</td>\n",
       "    </tr>\n",
       "    <tr>\n",
       "      <th>...</th>\n",
       "      <td>...</td>\n",
       "      <td>...</td>\n",
       "      <td>...</td>\n",
       "      <td>...</td>\n",
       "    </tr>\n",
       "    <tr>\n",
       "      <th>5069</th>\n",
       "      <td>Purushottam Bhaskar Bhave</td>\n",
       "      <td>https://www.rekhta.org/poets/purushottam-bhask...</td>\n",
       "      <td>None</td>\n",
       "      <td>purushottam-bhaskar-bhave</td>\n",
       "    </tr>\n",
       "    <tr>\n",
       "      <th>5070</th>\n",
       "      <td>Purushottam Shivaram Rege</td>\n",
       "      <td>https://www.rekhta.org/poets/purushottam-shiva...</td>\n",
       "      <td>Mumbai</td>\n",
       "      <td>purushottam-shivaram-rege</td>\n",
       "    </tr>\n",
       "    <tr>\n",
       "      <th>5071</th>\n",
       "      <td>Pushp Raj yadav</td>\n",
       "      <td>https://www.rekhta.org/poets/pushp-raj-yadav</td>\n",
       "      <td>Badayun</td>\n",
       "      <td>pushp-raj-yadav</td>\n",
       "    </tr>\n",
       "    <tr>\n",
       "      <th>5072</th>\n",
       "      <td>Pushpendra Pushp</td>\n",
       "      <td>https://www.rekhta.org/poets/pushpendra-pushp</td>\n",
       "      <td>Jalaun</td>\n",
       "      <td>pushpendra-pushp</td>\n",
       "    </tr>\n",
       "    <tr>\n",
       "      <th>5073</th>\n",
       "      <td>Pyare Lal Ratan</td>\n",
       "      <td>https://www.rekhta.org/poets/pyare-lal-ratan</td>\n",
       "      <td>Ludhiana</td>\n",
       "      <td>pyare-lal-ratan</td>\n",
       "    </tr>\n",
       "  </tbody>\n",
       "</table>\n",
       "<p>138 rows × 4 columns</p>\n",
       "</div>"
      ],
      "text/plain": [
       "                           name  \\\n",
       "4936        P P Srivastava Rind   \n",
       "4937        P. C. Kuttikrishnan   \n",
       "4938              P. Keshav Dev   \n",
       "4939            Pagal Adilabadi   \n",
       "4940             Paigham Aafaqi   \n",
       "...                         ...   \n",
       "5069  Purushottam Bhaskar Bhave   \n",
       "5070  Purushottam Shivaram Rege   \n",
       "5071            Pushp Raj yadav   \n",
       "5072           Pushpendra Pushp   \n",
       "5073            Pyare Lal Ratan   \n",
       "\n",
       "                                                   href   location  \\\n",
       "4936   https://www.rekhta.org/poets/p-p-srivastava-rind      Noida   \n",
       "4937   https://www.rekhta.org/authors/p-c-kuttikrishnan       None   \n",
       "4938        https://www.rekhta.org/authors/p-keshav-dev       None   \n",
       "4939       https://www.rekhta.org/poets/pagal-adilabadi  Hyderabad   \n",
       "4940      https://www.rekhta.org/authors/paigham-aafaqi       None   \n",
       "...                                                 ...        ...   \n",
       "5069  https://www.rekhta.org/poets/purushottam-bhask...       None   \n",
       "5070  https://www.rekhta.org/poets/purushottam-shiva...     Mumbai   \n",
       "5071       https://www.rekhta.org/poets/pushp-raj-yadav    Badayun   \n",
       "5072      https://www.rekhta.org/poets/pushpendra-pushp     Jalaun   \n",
       "5073       https://www.rekhta.org/poets/pyare-lal-ratan   Ludhiana   \n",
       "\n",
       "                           auth  \n",
       "4936        p-p-srivastava-rind  \n",
       "4937          p-c-kuttikrishnan  \n",
       "4938               p-keshav-dev  \n",
       "4939            pagal-adilabadi  \n",
       "4940             paigham-aafaqi  \n",
       "...                         ...  \n",
       "5069  purushottam-bhaskar-bhave  \n",
       "5070  purushottam-shivaram-rege  \n",
       "5071            pushp-raj-yadav  \n",
       "5072           pushpendra-pushp  \n",
       "5073            pyare-lal-ratan  \n",
       "\n",
       "[138 rows x 4 columns]"
      ]
     },
     "execution_count": 70,
     "metadata": {},
     "output_type": "execute_result"
    }
   ],
   "source": [
    "df[df['name'].str.startswith('P')]"
   ]
  },
  {
   "cell_type": "markdown",
   "id": "790cc218",
   "metadata": {},
   "source": [
    "Now we visit each author's ghazals page and save all the links. We need to use Selenium again for this part because only 50 ghazals are listed at a time and we need to scroll down to see the rest.\n",
    "\n",
    "We don't need to scroll down the page when scraping the actual text of the ghazals, so we will use BeautifulSoup for that part, which is much faster."
   ]
  },
  {
   "cell_type": "code",
   "execution_count": 21,
   "id": "464d60df",
   "metadata": {
    "scrolled": true
   },
   "outputs": [
    {
     "name": "stderr",
     "output_type": "stream",
     "text": [
      "100%|████████████████████████████████████████████████████████████████████████████| 1467/1467 [2:43:37<00:00,  6.69s/it]\n"
     ]
    }
   ],
   "source": [
    "##Parsing based on home page of authors\n",
    "driver = webdriver.Chrome()\n",
    "url_base='https://www.rekhta.org/poets/'\n",
    "dataset = {}\n",
    "for author in tqdm(df.auth):\n",
    "    links = []\n",
    "    url_home_page= url_base +author+ '/ghazals'\n",
    "    driver.get(url_home_page)\n",
    "    last_height = driver.execute_script(\"return document.body.scrollHeight\")\n",
    "    while True:\n",
    "        driver.execute_script(\"window.scrollTo(0, document.body.scrollHeight);\")\n",
    "        time.sleep(1)\n",
    "        new_height = driver.execute_script(\"return document.body.scrollHeight\")\n",
    "        if new_height == last_height:\n",
    "            break\n",
    "        last_height = new_height\n",
    "    titles = parse_webpage_at_given_scroll(driver.page_source)\n",
    "    for url in titles:\n",
    "        if url.startswith('https://www.rekhta.org/ghazals/'):\n",
    "            links.append(url)\n",
    "    if len(links)>0:\n",
    "        dataset[author] = links\n",
    "    if i%100==0: #save the links to the file every 100 iterations (just in case the program crashes)\n",
    "        with open('ghazal_links.pk', 'wb') as file:\n",
    "            pickle.dump(dataset, file)\n",
    "            driver.quit()\n",
    "            driver = webdriver.Chrome()\n",
    "\n",
    "with open('ghazal_links.pk', 'wb') as file:\n",
    "    pickle.dump(dataset, file)\n",
    "driver.quit()"
   ]
  },
  {
   "cell_type": "markdown",
   "id": "1916e320",
   "metadata": {},
   "source": [
    "I realized afterwards that some ghazals on Rekhta are in the \"Hindi Ghazals\" section rather than the Ghazals section where everything else is (this distinciton seems somewhat arbitrary). Luckily, this is a fairly small number of ghazals and I manually checked that there are no more 50 of these on any poet's webpage. So lazy loading isn't a problem, and we can just use BeautifulSoup for saving these links."
   ]
  },
  {
   "cell_type": "code",
   "execution_count": null,
   "id": "d835a40c",
   "metadata": {},
   "outputs": [],
   "source": [
    "response = requests.get('https://www.rekhta.org/hindi-ghazals')\n",
    "soup = BeautifulSoup(response.text, 'html.parser')\n",
    "\n",
    "for poet_div in soup.find_all('div', class_='poetColumn'):\n",
    "    name_div = poet_div.find('div', class_='poetNameDatePlace')\n",
    "    name_a = name_div.find('a')\n",
    "    href = name_a['href']\n",
    "    auth = href.split('/')[-2]\n",
    "    html = urllib.request.urlopen(href).read()\n",
    "    titles = parse_webpage_at_given_scroll(html)\n",
    "    if not auth in dataset.keys():\n",
    "        dataset[auth] = []\n",
    "    for url in titles:\n",
    "        if url.startswith('https://www.rekhta.org/hindi-ghazals/'):\n",
    "            dataset[auth].append(url)\n",
    "            \n",
    "with open('ghazal_links.pk', 'wb') as file:\n",
    "    pickle.dump(dataset, file)"
   ]
  },
  {
   "cell_type": "markdown",
   "id": "077f394c",
   "metadata": {},
   "source": [
    "Some helper functions that we will use to save the text from the webpage containing a ghazal. The parse_ghazal function may need to be updated if the structure of the webpage changes."
   ]
  },
  {
   "cell_type": "code",
   "execution_count": 23,
   "id": "7e3470ac",
   "metadata": {},
   "outputs": [],
   "source": [
    "#captures the different <p> tags as newlines\n",
    "def text_with_newlines(elem):\n",
    "    text = ''\n",
    "    for e in elem.descendants:\n",
    "        if isinstance(e, str):\n",
    "            text += e\n",
    "        elif e.name == 'br' or e.name == 'p':\n",
    "            text += '\\n'\n",
    "    return text\n",
    "\n",
    "\n",
    "def parse_ghazal(url):\n",
    "    html = urllib.request.urlopen(url).read()\n",
    "    soup = BeautifulSoup(html, 'html.parser')\n",
    "    mydivs = soup.find_all(\"div\", {\"class\": \"pMC\"})  # Find all instances of the pMC class\n",
    "    \n",
    "    # Check if there is at least one instance of pMC class\n",
    "    if mydivs:        \n",
    "        # Remove English translations present on the webpage\n",
    "        for div in mydivs[1].find_all(\"div\", {'class': 't'}):\n",
    "            div.decompose()\n",
    "        \n",
    "        return text_with_newlines(mydivs[1])"
   ]
  },
  {
   "cell_type": "code",
   "execution_count": 2,
   "id": "85e2bd04",
   "metadata": {},
   "outputs": [],
   "source": [
    "#Loading the previously saved file (in case the kernel was restarted)\n",
    "with open('ghazal_links.pk', 'rb') as file:\n",
    "    dataset=pickle.load(file)\n",
    "authors = list(dataset.keys())"
   ]
  },
  {
   "cell_type": "code",
   "execution_count": 4,
   "id": "230e584f",
   "metadata": {
    "scrolled": false
   },
   "outputs": [
    {
     "name": "stdout",
     "output_type": "stream",
     "text": [
      "There are 6224 poets in this dataset and a total of 69868 ghazals.\n"
     ]
    }
   ],
   "source": [
    "total=0\n",
    "for auth in dataset:\n",
    "    total+=len(dataset[auth])\n",
    "print(f'There are {len(dataset)} poets in this dataset and a total of {total} ghazals.')"
   ]
  },
  {
   "cell_type": "markdown",
   "id": "035813fe",
   "metadata": {},
   "source": [
    "Now, actually scraping the ghazals' text. We make one file for every author."
   ]
  },
  {
   "cell_type": "code",
   "execution_count": 24,
   "id": "b4815b76",
   "metadata": {
    "scrolled": true
   },
   "outputs": [
    {
     "name": "stdout",
     "output_type": "stream",
     "text": [
      "scraping ghazals of dard-faiz-khan\n"
     ]
    },
    {
     "name": "stderr",
     "output_type": "stream",
     "text": [
      "100%|██████████████████████████████████████████████████████████████████████████| 11/11 [00:16<00:00,  1.50s/it]\n"
     ]
    },
    {
     "name": "stdout",
     "output_type": "stream",
     "text": [
      "scraping ghazals of dard-sironji\n"
     ]
    },
    {
     "name": "stderr",
     "output_type": "stream",
     "text": [
      "100%|██████████████████████████████████████████████████████████████████████████| 11/11 [00:29<00:00,  2.66s/it]\n"
     ]
    },
    {
     "name": "stdout",
     "output_type": "stream",
     "text": [
      "scraping ghazals of darshan-dayal-parwaz\n"
     ]
    },
    {
     "name": "stderr",
     "output_type": "stream",
     "text": [
      "100%|██████████████████████████████████████████████████████████████████████████| 12/12 [00:27<00:00,  2.32s/it]\n"
     ]
    }
   ],
   "source": [
    "lang='hi' #can be 'en', 'ur', or 'hi'\n",
    "begin = 0 #Change 'begin' and 'end' if you want to only go over a smaller subset of authors at a time\n",
    "end = 6224\n",
    "failed = [] #Keep a track of the authors whose ghazals we couldn't scrape,\n",
    "            #so we can go over them again later\n",
    "    \n",
    "if not os.path.exists('ghazals_'+lang):\n",
    "    os.makedirs('ghazals_'+lang)\n",
    "    \n",
    "for auth in authors[begin:end]:\n",
    "    try:\n",
    "        ghazals = []\n",
    "        print(f'scraping ghazals of {auth}')\n",
    "        for url in tqdm(dataset[auth]):\n",
    "            if lang!='en':\n",
    "                url = url+'?lang='+lang\n",
    "            ghazals.append(parse_ghazal(url).lstrip(\"\\n\"))\n",
    "        with open(f'ghazals_{lang}/{auth}_{lang}.txt', 'w', encoding='utf-8') as file:\n",
    "            file.write(\"\\n\\n\".join(ghazals))\n",
    "    except Exception as e:\n",
    "        print(e)\n",
    "        print(\"Failed:\",auth)\n",
    "        failed.append(auth)\n",
    "with open(f'failed_{begin}-{end}.txt', 'w', encoding='utf-8') as f:\n",
    "    f.write(\"\\n\".join(failed))"
   ]
  }
 ],
 "metadata": {
  "kernelspec": {
   "display_name": "Python 3 (ipykernel)",
   "language": "python",
   "name": "python3"
  },
  "language_info": {
   "codemirror_mode": {
    "name": "ipython",
    "version": 3
   },
   "file_extension": ".py",
   "mimetype": "text/x-python",
   "name": "python",
   "nbconvert_exporter": "python",
   "pygments_lexer": "ipython3",
   "version": "3.9.13"
  }
 },
 "nbformat": 4,
 "nbformat_minor": 5
}
